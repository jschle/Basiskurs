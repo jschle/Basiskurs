{
 "cells": [
  {
   "cell_type": "markdown",
   "id": "b3f1de56",
   "metadata": {},
   "source": [
    "# $\\sin(x)\\approx x$"
   ]
  },
  {
   "cell_type": "markdown",
   "id": "0c61da37",
   "metadata": {},
   "source": [
    "Berechne den prozentualen Fehler der Nährung $\\sin(x)\\approx x $ im Bereich von 5 bis 90 Grad in 5-Grad-Schritten und gebe das Ergebnis als Text aus.\n",
    "\n",
    "Für eine schöne und effiziente Textausgabe lassen sich Konzepte wie f-Strings verwenden. Recherchiere, was das ist, und versuche, die Variablen so in den Text einzubette, dass für die den Winkel zwei Stellen als Integer vorgesehen sind, und für den Fehler eine Fließkommazahl mit einer Nachkommastelle.\n"
   ]
  },
  {
   "cell_type": "code",
   "execution_count": 3,
   "id": "ac170589",
   "metadata": {
    "scrolled": true
   },
   "outputs": [],
   "source": [
    "import math\n",
    "\n",
    "# for winkel in range(...):\n",
    "    # x = ...\n",
    "    # fehler = ...\n",
    "    # print(f'...')"
   ]
  }
 ],
 "metadata": {
  "kernelspec": {
   "display_name": "Python 3 (ipykernel)",
   "language": "python",
   "name": "python3"
  },
  "language_info": {
   "codemirror_mode": {
    "name": "ipython",
    "version": 3
   },
   "file_extension": ".py",
   "mimetype": "text/x-python",
   "name": "python",
   "nbconvert_exporter": "python",
   "pygments_lexer": "ipython3",
   "version": "3.9.5"
  }
 },
 "nbformat": 4,
 "nbformat_minor": 5
}

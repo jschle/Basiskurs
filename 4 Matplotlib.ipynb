{
 "cells": [
  {
   "cell_type": "markdown",
   "id": "ff05d3b7",
   "metadata": {},
   "source": [
    "# Matplotlib"
   ]
  },
  {
   "cell_type": "markdown",
   "id": "44d6020f",
   "metadata": {},
   "source": [
    "Hier sollen die Funktionsgraphen der Sinus- und Kosinusfunktion inkl. Achsenbeschriftungen erstellt werden."
   ]
  },
  {
   "cell_type": "code",
   "execution_count": 1,
   "id": "a3a00ed2",
   "metadata": {},
   "outputs": [],
   "source": [
    "import numpy as np\n",
    "import matplotlib.pyplot as plt\n",
    "\n",
    "# x = np.linspace(...)\n",
    "# y1 = ...\n",
    "# y2 = ...\n",
    "\n",
    "# fig = plt.figure()\n",
    "# ax = fig.add_subplot(1, 1, 1)\n",
    "# ax.set_title(...)\n",
    "# ax...\n",
    "# ...\n",
    "# ax.grid()\n",
    "\n",
    "# ax.plot(...)\n",
    "# ax....\n",
    "# ax.legend()\n",
    "\n",
    "# plt.show()"
   ]
  }
 ],
 "metadata": {
  "kernelspec": {
   "display_name": "Python 3 (ipykernel)",
   "language": "python",
   "name": "python3"
  },
  "language_info": {
   "codemirror_mode": {
    "name": "ipython",
    "version": 3
   },
   "file_extension": ".py",
   "mimetype": "text/x-python",
   "name": "python",
   "nbconvert_exporter": "python",
   "pygments_lexer": "ipython3",
   "version": "3.9.5"
  }
 },
 "nbformat": 4,
 "nbformat_minor": 5
}

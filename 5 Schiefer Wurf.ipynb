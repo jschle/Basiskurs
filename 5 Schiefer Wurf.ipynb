{
 "cells": [
  {
   "cell_type": "markdown",
   "id": "d0342147",
   "metadata": {},
   "source": [
    "# Schiefer Wurf"
   ]
  },
  {
   "cell_type": "markdown",
   "id": "24103349",
   "metadata": {},
   "source": [
    "\"Der schiefe Wurf wird in nahezu jedem einführenden Physikbuch ausführlich diskutiert. Es handelt sich um eine gleichmäßig beschleunigte Bewegung mit einer gegebenen Anfangsgeschwindigkeit. Wenn man davon ausgeht, dass die Beschleunigung $\\vec{a}$ konstant ist, dann kann man die \\[Differentialgleichung $\\vec{a} = \\frac{\\mathrm{d}v}{\\mathrm{d}t}$\\] \\[$\\dots$\\] integrieren und erhält für die Geschwindigkeit $\\vec{v}$ den Ausdruck\n",
    "$$\\vec{v}(t) = \\vec{v}_0+\\vec{a}t,$$\n",
    "wobei $\\vec{v}_0$ die Geschwindigkeit zum Zeitpunkt $t=0$ ist. Die nochmalige Integration von Gleichung (4.7) liefert dann direkt den Ortsvektor als Funktion der Zeit:\n",
    "$$\\vec{r}(t) = \\vec{r}_0+\\vec{v}_0\\,t+\\frac{1}{2}\\,\\vec{a}\\,t^2$$\n",
    "Für den schiefen Wurf \\[$\\dots$\\] zeigt der Vektor der Beschleunigung in die -y-Richtung und hat den Betrag der Erdbeschleunigung:\n",
    "$$\\vec{a} = -g\\vec{e}_y\\quad\\text{mit}\\quad g = 9,81\\frac{\\mathrm{m}}{\\mathrm{s^2}}$$\n",
    "Den Zeitpunkt $t_e$, zu dem der Gegenstand auf dem Boden aufkommt, ergibt sich aus der Bedingung $y(t_e) = 0$. Diese liefert eine quadratische Gleichung, deren positive Lösung\n",
    "$$t_e = \\frac{v_{0,y}}{g} +\\sqrt{\\left(\\frac{v_{0,y}}{g}\\right)^2+\\frac{2h}{g}}$$\n",
    "lautet. Dabei bezeichnet $v_{0,y}$ die $y$-Komponente der Anfangsgeschwindigkeit. Wir wollen nun die Bahnkurve \\[$\\dots$\\] im Zeitbereich von $t=0$ bis $t=t_e$ grafisch darstellen \\[$\\dots$\\].\""
   ]
  },
  {
   "cell_type": "code",
   "execution_count": 5,
   "id": "dd2b2a22",
   "metadata": {
    "scrolled": true
   },
   "outputs": [],
   "source": [
    "\"\"\"Bahnkurve des schiefen Wurfs: Funktioniert so nicht! \"\"\"\n",
    "\n",
    "import math\n",
    "import numpy as np\n",
    "import matplotlib.pyplot as plt\n",
    "\n",
    "h = 10.0                       # Anfangshöhe [m].\n",
    "v_ab = 5.0                     # Abwurfgeschwindigkeit [m/s].\n",
    "alpha_deg = 25.0               # Abwurfwinkel [°].\n",
    "g = 9.81                       # Schwerebeschleunigung [m/s²].\n",
    "\n",
    "# Rechne den Winkel in das Bogenmaß um.\n",
    "alpha = math.radians(alpha_deg)\n",
    "\n",
    "# Stelle die Vektoren als 1-dimensionale Arrays dar.\n",
    "r0 = np.array([0, h])\n",
    "v0 = np.array([v_ab * math.cos(alpha), v_ab * math.sin(alpha)])\n",
    "a = np.array([0, -g])\n",
    "\n",
    "# Berechne den Auftreffzeitpunkt auf dem Boden.\n",
    "t_e = v0[1] / g + math.sqrt((v0[1] / g) ** 2 + 2 * r0[1] / g)\n",
    "\n",
    "# Erezuge ein Array von Zeitpunkten.\n",
    "t = np.linspace(0, t_e, 1000)\n",
    "\n",
    "# Berechne den Ortsvektor für diese Zeitpunkte.\n",
    "r = r0 + v0 * t + 0.5 * a * t**2"
   ]
  },
  {
   "cell_type": "markdown",
   "id": "a7b7ad17",
   "metadata": {},
   "source": [
    "Führt man obigen Code aus, erhält man eine Fehlermeldung: einen ValueError, da die Arrays der Dimensionen 2x1 und 1000x1 nicht multipliziert werden können. Python kennt schlicht keine arithmetischen Vorschriften, um Arrays unterschiedlicher Größe miteinander zu multiplizieren.\n",
    "\n",
    "Die Lösung? Man könnte jedes Element des Ortsvektors einzeln berechnen (for-Schleife), oder das Paket \"NumPy\" verwenden, in dem das Broadcasten von Arrays unterschiedlicher Größe analog zur Multiplikation von Zeilen und Spaltenvektoren möglich ist.\n",
    "\n",
    "Fangen wir mit der for-Schleife an. Kommentiere die Zeile mit der Berechnung im obigen Block aus, und versuche den folgenden Code zu vervollständigen:"
   ]
  },
  {
   "cell_type": "code",
   "execution_count": 6,
   "id": "534e0447",
   "metadata": {},
   "outputs": [],
   "source": [
    "# Berechne den Ortsvektor für alle Zeitpunkte im Array t.\n",
    "r = np.empty((t.size, r0.size))\n",
    "for i in range(t.size):\n",
    "    for j in range(r0.size):\n",
    "        # ...\n",
    "        # Hier soll die Berechnung von r stehen"
   ]
  },
  {
   "cell_type": "markdown",
   "id": "260a3e16",
   "metadata": {},
   "source": [
    "Leider ist dieser Code nicht ganz effizient. Man verwechselt leicht die Indizes, die Berechnung ist unübersichtlich und for-Schleifen sind in Python recht langsam, da bei jedem Durchlauf die Laufindizes $i$ und $j$ zwischengespeichert und erhöht werden müssen.\n",
    "\n",
    "Deshalb soll nun eine \"NumPy\"-Lösung her. Alle Arrays, $t$, $r_0$, $v_0$ und $a$, liegen bereits als \"NumPy\"-Arrays vor. Wie könnten sie sich verrechnen lassen? Hinweis: Die \"NumPy\"-Funktion .reshape($\\dots$) könnte hilfreich sein."
   ]
  },
  {
   "cell_type": "code",
   "execution_count": 8,
   "id": "c746efaa",
   "metadata": {},
   "outputs": [],
   "source": [
    "# ... ?\n",
    "\n",
    "# Berechne den Ortsvektor für alle Zeitpunkte im Array t.\n",
    "r = # ?"
   ]
  },
  {
   "cell_type": "markdown",
   "id": "d5c26590",
   "metadata": {},
   "source": [
    "Zur Anzeige der Daten dient das Paket Matplotlib:"
   ]
  },
  {
   "cell_type": "code",
   "execution_count": 9,
   "id": "ff2087a3",
   "metadata": {},
   "outputs": [
    {
     "data": {
      "image/png": "[encoded data removed]",
      "text/plain": [
       "<Figure size 432x288 with 1 Axes>"
      ]
     },
     "metadata": {
      "needs_background": "light"
     },
     "output_type": "display_data"
    }
   ],
   "source": [
    "# Erzeuge eine Figure und ein Axes-Objekt.\n",
    "fig = plt.figure()\n",
    "ax = fig.add_subplot(1, 1, 1)\n",
    "ax.set_xlabel('x [m]')\n",
    "ax.set_ylabel('y [m]')\n",
    "ax.grid()\n",
    "\n",
    "# Plotte die Bahnkurve.\n",
    "# ax.plot(...) ?\n",
    "\n",
    "# Zeige die Grafik an.\n",
    "plt.show()"
   ]
  },
  {
   "cell_type": "markdown",
   "id": "6377fd3e",
   "metadata": {},
   "source": [
    "Quelle für Text und Code: Natt, Oliver (2020). Physik mit Python: Simulationen, Visualisierungen und Animationen von Anfang an (1st ed. 2020) Springer."
   ]
  }
 ],
 "metadata": {
  "kernelspec": {
   "display_name": "Python 3 (ipykernel)",
   "language": "python",
   "name": "python3"
  },
  "language_info": {
   "codemirror_mode": {
    "name": "ipython",
    "version": 3
   },
   "file_extension": ".py",
   "mimetype": "text/x-python",
   "name": "python",
   "nbconvert_exporter": "python",
   "pygments_lexer": "ipython3",
   "version": "3.9.5"
  }
 },
 "nbformat": 4,
 "nbformat_minor": 5
}

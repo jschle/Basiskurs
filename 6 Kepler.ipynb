{
 "cells": [
  {
   "cell_type": "markdown",
   "metadata": {
    "collapsed": true
   },
   "source": [
    "# Kepler Problem\n",
    "Ein schönes Beispiel für die Anwendung eines iterativen Algorithmus ist das Keplerproblem.\n",
    "Hier kreist ein relativ leichtes Objekt um ein unbewegliches schweres Objekt.\n",
    "Also zum Beispiel die Erde um die Sonne.\n",
    "\n",
    "Um diese Bahn zu bestimmen, müsen wir zuerst etwas Mathe machen.\n",
    "Natürlich brauchen wir Newtons Gravitationsgesetz.\n",
    "$$\\vec{F} = \n",
    "- \\vec{r}\n",
    "\\frac{G \\cdot m  \\cdot M}\n",
    "{| \\vec{r} |^{3}} $$\n",
    "\n",
    "Nun gilt für die Position des Körpers mit der kleinen Masse $m$:\n",
    "$$ \\ddot{\\vec{r}}\n",
    "= - \\vec{r}\n",
    "\\frac{G \\cdot M}\n",
    "{| \\vec{r} |^{3}}$$\n",
    "\n",
    "Dies könnten wir nun analytisch oder durch numerische Integration lösen.\n",
    "\n",
    "Für die numerische Integration verwenden wir das explizite Eulerverfahren.\n",
    "Vereinfacht heißt dies wir nähern unser Integral durch lauter kleine Säulchen an,\n",
    "welche im Gegensatz zu einem richtigen Integral eine endliche Breite haben.\n",
    "Diese Länge bezeichnen wir als Schrittweite $\\Delta t$.\n",
    "\n",
    "Damit erhalten wir aus unseren Doppelintegral zwei Iterationsformeln:\n",
    "$$\\vec{v}_{i+1} = \\vec{v}_{i} \n",
    "- \\vec{r}\n",
    "\\frac{G \\cdot M}{| \\vec{r} |^{3}}\n",
    "\\cdot \\Delta t $$\n",
    "\n",
    "$$\\vec{r}_{i+1} = \\vec{r}_{i} + v_{i-1} \\cdot \\Delta t$$\n",
    "\n",
    "Zu Beginn binden wir numpy für numerische Operationen ein,\n",
    "was die Geschwindigkeit deutlich erhöht.\n",
    "Anschließend binden wir matplotlib.pyplot ein um eine grafische Darstellung zu ermöglichen."
   ]
  },
  {
   "cell_type": "code",
   "execution_count": 1,
   "metadata": {},
   "outputs": [],
   "source": [
    "# import...\n",
    "# import matplotlib.pyplot as ..."
   ]
  },
  {
   "cell_type": "markdown",
   "metadata": {},
   "source": [
    "Hier definieren wir die Eingeschaften unseres Systems."
   ]
  },
  {
   "cell_type": "code",
   "execution_count": 2,
   "metadata": {},
   "outputs": [],
   "source": [
    "# mg =     # Masse große Zentralmasse im Ursprung mal Gravitationskonstanten\n",
    "# tau =    # delta time Zeitschritt\n",
    "# ngrid =  # Anzahl der Datenpunkte / Iterationsschritte\n",
    "#r0 =      # Startpunkt (Randbedingung DGL)\n",
    "#v0 =       # Startgeschwindikgeit (Randbedingung DGL)"
   ]
  },
  {
   "cell_type": "markdown",
   "metadata": {},
   "source": [
    "Die folgenden zwei Blöcke bereiten die Arrays vor,\n",
    "in welche wir die Ergebnisse eintragen werden."
   ]
  },
  {
   "cell_type": "code",
   "execution_count": 3,
   "metadata": {},
   "outputs": [],
   "source": [
    "# rlist =  # Array für Ort\n",
    "# vlist =  # Array für Geschwindigkeit"
   ]
  },
  {
   "cell_type": "code",
   "execution_count": 4,
   "metadata": {},
   "outputs": [],
   "source": [
    "# rlist[0,0] =   # Startbedingungen in Array kopieren\n",
    "#..."
   ]
  },
  {
   "cell_type": "markdown",
   "metadata": {},
   "source": [
    "Der nächste Block führt die Iteration für jede Koordiante aus.\n",
    "Hier sind die einzelnen Zeilen noch einmal als mathematische Formeln aufgeführt:\n",
    "$$\\textrm{nd} = \\sqrt{\n",
    "    \\vec{r}_{i-1, x}^{2} + \\vec{r}_{i-1, y}^{2} \n",
    "}^{2}$$\n",
    "$$\\vec{v}_{i,x} = \n",
    "\\vec{v}_{i-1,x} - \n",
    "\\frac{M \\cdot G \\cdot \\Delta \\tau \\cdot \\vec{r}_{i-1,x}}\n",
    "{\\textrm{nd}}$$\n",
    "$$\\vec{v}_{i,y} = \n",
    "\\vec{v}_{i-1,y} - \n",
    "\\frac{M \\cdot G \\cdot \\Delta \\tau \\cdot \\vec{r}_{i-1,y}}\n",
    "{\\textrm{nd}}$$\n",
    "$$\\vec{r}_{i,x} = \\vec{r}_{i-1,x} + \\vec{r}_{i-1,x} \\Delta \\tau $$\n",
    "$$\\vec{r}_{i,y} = \\vec{r}_{i-1,y} + \\vec{r}_{i-1,y} \\Delta \\tau $$"
   ]
  },
  {
   "cell_type": "code",
   "execution_count": 5,
   "metadata": {},
   "outputs": [],
   "source": [
    "# for i in range(1,ngrid):                                 # Loop Ausrechnen von Ort und Geschindigkeit in kleinen Zeitschritten\n",
    "#..."
   ]
  },
  {
   "cell_type": "markdown",
   "metadata": {},
   "source": [
    "Nun nutzen wir matplotlib um die Ergebnisse darzustellen.\n",
    "Hierbei werden die Arrays als x und y Koordinaten interptetiert."
   ]
  },
  {
   "cell_type": "code",
   "execution_count": 6,
   "metadata": {},
   "outputs": [
    {
     "data": {
      "image/png": "[encoded data removed]",
      "text/plain": [
       "<Figure size 432x288 with 1 Axes>"
      ]
     },
     "metadata": {
      "needs_background": "light"
     },
     "output_type": "display_data"
    }
   ],
   "source": [
    "# plt.scatter(...)\n",
    "# plt.show()"
   ]
  }
 ],
 "metadata": {
  "kernelspec": {
   "display_name": "Python 3 (ipykernel)",
   "language": "python",
   "name": "python3"
  },
  "language_info": {
   "codemirror_mode": {
    "name": "ipython",
    "version": 3
   },
   "file_extension": ".py",
   "mimetype": "text/x-python",
   "name": "python",
   "nbconvert_exporter": "python",
   "pygments_lexer": "ipython3",
   "version": "3.9.5"
  }
 },
 "nbformat": 4,
 "nbformat_minor": 1
}

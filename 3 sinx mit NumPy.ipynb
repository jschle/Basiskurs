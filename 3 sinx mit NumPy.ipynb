{
 "cells": [
  {
   "cell_type": "markdown",
   "id": "6f025ab7",
   "metadata": {},
   "source": [
    "# $\\sin(x)\\approx x $ mit NumPy"
   ]
  },
  {
   "cell_type": "markdown",
   "id": "e77b5844",
   "metadata": {},
   "source": [
    "Ziel ist es, wie in der letzten Übung, $\\sin(x)\\approx x$ zu berechnen, aber diesmal mit der Hilfe von NumPy. Diese Lösung ist idR schneller, effizienter und leichter lesbar als der Ansatz über die for-Schleife."
   ]
  },
  {
   "cell_type": "code",
   "execution_count": 1,
   "id": "03ee5bb8",
   "metadata": {},
   "outputs": [],
   "source": [
    "import numpy as np\n",
    "\n",
    "# winkel = np.arange(...)\n",
    "# x = ... (winkel)\n",
    "# fehler = ...\n",
    "\n",
    "# Ausgabe mit f-Strings benötigt for-Schleife, da Zeile für Zeile abgearbeitet werden muss:\n",
    "# for i in ...:\n",
    "    # print(f'Winkel: {...} Grad, Fehler: {...} %')"
   ]
  }
 ],
 "metadata": {
  "kernelspec": {
   "display_name": "Python 3 (ipykernel)",
   "language": "python",
   "name": "python3"
  },
  "language_info": {
   "codemirror_mode": {
    "name": "ipython",
    "version": 3
   },
   "file_extension": ".py",
   "mimetype": "text/x-python",
   "name": "python",
   "nbconvert_exporter": "python",
   "pygments_lexer": "ipython3",
   "version": "3.9.5"
  }
 },
 "nbformat": 4,
 "nbformat_minor": 5
}

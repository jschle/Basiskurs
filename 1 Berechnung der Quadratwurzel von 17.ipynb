{
 "cells": [
  {
   "cell_type": "markdown",
   "id": "78d21d72",
   "metadata": {},
   "source": [
    "# Berechnung der Quadratwurzel von 17"
   ]
  },
  {
   "cell_type": "code",
   "execution_count": 2,
   "id": "9daee2c3",
   "metadata": {},
   "outputs": [],
   "source": [
    "import math"
   ]
  },
  {
   "cell_type": "markdown",
   "id": "f88d81a6",
   "metadata": {},
   "source": [
    "Weise einer Variable den Wert 17 zu, und benutze eine zweite Variable und das Paket math, um die Quadratwurzel zu berechnen:"
   ]
  },
  {
   "cell_type": "code",
   "execution_count": 3,
   "id": "28c7a14f",
   "metadata": {},
   "outputs": [],
   "source": [
    "# a = ...\n",
    "# ..."
   ]
  }
 ],
 "metadata": {
  "kernelspec": {
   "display_name": "Python 3 (ipykernel)",
   "language": "python",
   "name": "python3"
  },
  "language_info": {
   "codemirror_mode": {
    "name": "ipython",
    "version": 3
   },
   "file_extension": ".py",
   "mimetype": "text/x-python",
   "name": "python",
   "nbconvert_exporter": "python",
   "pygments_lexer": "ipython3",
   "version": "3.9.5"
  }
 },
 "nbformat": 4,
 "nbformat_minor": 5
}
